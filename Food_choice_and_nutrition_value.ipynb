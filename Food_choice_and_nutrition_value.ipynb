{
  "nbformat": 4,
  "nbformat_minor": 0,
  "metadata": {
    "colab": {
      "provenance": []
    },
    "kernelspec": {
      "name": "python3",
      "display_name": "Python 3"
    },
    "language_info": {
      "name": "python"
    }
  },
  "cells": [
    {
      "cell_type": "code",
      "source": [
        "# Define a dictionary of foods with nutritional information per slice\n",
        "foods = {\n",
        "    \"1\": {\"name\": \"Pizza\", \"calories\": 285, \"carbs\": 36, \"protein\": 12, \"fat\": 10, \"serving_size\": 1},\n",
        "    \"2\": {\"name\": \"Burger\", \"calories\": 250, \"carbs\": 31, \"protein\": 15, \"fat\": 9, \"serving_size\": 1},\n",
        "    \"3\": {\"name\": \"Sushi\", \"calories\": 300, \"carbs\": 60, \"protein\": 9, \"fat\": 3, \"serving_size\": 1},\n",
        "    \"4\": {\"name\": \"Taco\", \"calories\": 210, \"carbs\": 30, \"protein\": 15, \"fat\": 5, \"serving_size\": 1},\n",
        "}\n",
        "\n",
        "# Initialize user's meal and nutritional values\n",
        "selected_foods = []\n",
        "total_calories = 0\n",
        "total_carbs = 0\n",
        "total_protein = 0\n",
        "total_fat = 0\n",
        "\n",
        "# Display a menu of food options\n",
        "print(\"Welcome to the Meal Planner Program!\")\n",
        "print(\"Choose foods by entering their numbers. Enter 'x' to finish selecting.\")\n",
        "while True:\n",
        "    print(\"\\nAvailable Foods:\")\n",
        "    for key, value in foods.items():\n",
        "        print(f\"{key}. {value['name']}\")\n",
        "\n",
        "    user_choice = input(\"Enter the number of your selected food (or 'x' to finish): \")\n",
        "\n",
        "    if user_choice.lower() == \"x\":\n",
        "        break\n",
        "\n",
        "    selected_food = foods.get(user_choice)\n",
        "    if selected_food:\n",
        "        slices = int(input(f\"How many slices of {selected_food['name']}: \"))\n",
        "        selected_foods.append((selected_food, slices))\n",
        "\n",
        "# Calculate nutritional values for the selected foods\n",
        "for food, slices in selected_foods:\n",
        "    total_calories += (food['calories'] * slices)\n",
        "    total_carbs += (food['carbs'] * slices)\n",
        "    total_protein += (food['protein'] * slices)\n",
        "    total_fat += (food['fat'] * slices)\n",
        "\n",
        "# Display the meal summary\n",
        "print(\"\\nMeal Summary:\")\n",
        "print(f\"Total Calories: {total_calories:.2f} kcal\")\n",
        "print(f\"Total Carbs: {total_carbs:.2f} grams\")\n",
        "print(f\"Total Protein: {total_protein:.2f} grams\")\n",
        "print(f\"Total Fat: {total_fat:.2f} grams\")\n"
      ],
      "metadata": {
        "colab": {
          "base_uri": "https://localhost:8080/"
        },
        "id": "WlyfQjyLct3I",
        "outputId": "a9697907-0d54-4a7d-d38e-533691e25721"
      },
      "execution_count": 8,
      "outputs": [
        {
          "output_type": "stream",
          "name": "stdout",
          "text": [
            "Welcome to the Meal Planner Program!\n",
            "Choose foods by entering their numbers. Enter 'x' to finish selecting.\n",
            "\n",
            "Available Foods:\n",
            "1. Pizza\n",
            "2. Burger\n",
            "3. Sushi\n",
            "4. Taco\n",
            "Enter the number of your selected food (or 'x' to finish): 3\n",
            "How many slices of Sushi: 3\n",
            "\n",
            "Available Foods:\n",
            "1. Pizza\n",
            "2. Burger\n",
            "3. Sushi\n",
            "4. Taco\n",
            "Enter the number of your selected food (or 'x' to finish): x\n",
            "\n",
            "Meal Summary:\n",
            "Total Calories: 900.00 kcal\n",
            "Total Carbs: 180.00 grams\n",
            "Total Protein: 27.00 grams\n",
            "Total Fat: 9.00 grams\n"
          ]
        }
      ]
    }
  ]
}